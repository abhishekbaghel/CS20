{
 "cells": [
  {
   "cell_type": "code",
   "execution_count": 1,
   "metadata": {},
   "outputs": [],
   "source": [
    "import os\n",
    "os.environ['TF_CPP_MIN_LOG_LEVEL']='2'\n",
    "\n",
    "import numpy as np\n",
    "import tensorflow as tf\n",
    "import time\n",
    "import matplotlib.pyplot as plt\n",
    "\n",
    "import utils"
   ]
  },
  {
   "cell_type": "code",
   "execution_count": 15,
   "metadata": {},
   "outputs": [],
   "source": [
    "learning_rate = 0.001\n",
    "batch_size = 128\n",
    "n_epochs = 60\n",
    "n_train = 60000\n",
    "n_test = 10000"
   ]
  },
  {
   "cell_type": "code",
   "execution_count": 3,
   "metadata": {},
   "outputs": [],
   "source": [
    "mnist_folder = './data/mnist'\n",
    "#utils.download_mnist(mnist_folder)"
   ]
  },
  {
   "cell_type": "code",
   "execution_count": 4,
   "metadata": {},
   "outputs": [],
   "source": [
    "train, val, test = utils.read_mnist(mnist_folder, flatten=True)"
   ]
  },
  {
   "cell_type": "code",
   "execution_count": 5,
   "metadata": {},
   "outputs": [],
   "source": [
    "train_data = tf.data.Dataset.from_tensor_slices(train)\n",
    "train_data = train_data.shuffle(100)\n",
    "train_data = train_data.batch(batch_size)\n",
    "\n",
    "test_data = tf.data.Dataset.from_tensor_slices(test)\n",
    "test_data = test_data.batch(batch_size)"
   ]
  },
  {
   "cell_type": "code",
   "execution_count": 6,
   "metadata": {},
   "outputs": [],
   "source": [
    "iterator = tf.data.Iterator.from_structure(train_data.output_types, train_data.output_shapes)\n",
    "img,label = iterator.get_next()\n",
    "train_iter = iterator.make_initializer(train_data)\n",
    "test_iter  = iterator.make_initializer(test_data)"
   ]
  },
  {
   "cell_type": "code",
   "execution_count": 7,
   "metadata": {},
   "outputs": [],
   "source": [
    "w1 = tf.get_variable(\"weights1\",shape=(784,256), initializer = tf.truncated_normal_initializer())\n",
    "b1 = tf.get_variable(\"bias1\", shape = (1,256), initializer = tf.zeros_initializer())\n",
    "w2 = tf.get_variable(\"weights2\", shape=(256,64), initializer = tf.truncated_normal_initializer())\n",
    "b2 = tf.get_variable(\"bias2\", shape = (1,64), initializer = tf.zeros_initializer())\n",
    "w3 = tf.get_variable(\"weights3\", shape=(64,10), initializer = tf.truncated_normal_initializer())\n",
    "b3 = tf.get_variable(\"bias3\", shape = (1,10), initializer = tf.zeros_initializer())"
   ]
  },
  {
   "cell_type": "code",
   "execution_count": 8,
   "metadata": {},
   "outputs": [],
   "source": [
    "z1 = tf.matmul(img, w1) + b1 \n",
    "a1 = tf.nn.relu(z1)\n",
    "z2 = tf.matmul(a1, w2) + b2\n",
    "a2 = tf.nn.relu(z2)\n",
    "#z3 = tf.matmul(a2, w3) + b3\n",
    "#a3 = tf.nn.relu(z3)\n",
    "logits = tf.matmul(a2,w3) + b3\n",
    "#logits = tf.matmul(img, w1) + b1 \n",
    "\n",
    "predictions = tf.nn.softmax(logits)"
   ]
  },
  {
   "cell_type": "code",
   "execution_count": 9,
   "metadata": {},
   "outputs": [],
   "source": [
    "entropy = tf.nn.softmax_cross_entropy_with_logits_v2(logits = logits, labels = label, name = \"entropy\")\n",
    "loss = tf.reduce_mean(entropy, name = \"loss\")"
   ]
  },
  {
   "cell_type": "code",
   "execution_count": 10,
   "metadata": {},
   "outputs": [],
   "source": [
    "optimizer = tf.train.AdamOptimizer(learning_rate).minimize(loss)"
   ]
  },
  {
   "cell_type": "code",
   "execution_count": 11,
   "metadata": {},
   "outputs": [],
   "source": [
    "correct_preds = tf.equal(tf.argmax(predictions,1), tf.argmax(label, 1))\n",
    "accuracy = tf.reduce_sum(tf.cast(correct_preds, tf.float32))"
   ]
  },
  {
   "cell_type": "code",
   "execution_count": 12,
   "metadata": {},
   "outputs": [],
   "source": [
    "#writer = tf.summary.FileWriter(\"./graphs/log_reg/2\", tf.get_default_graph())"
   ]
  },
  {
   "cell_type": "code",
   "execution_count": 16,
   "metadata": {},
   "outputs": [
    {
     "name": "stdout",
     "output_type": "stream",
     "text": [
      "Average loss epoch 0: 26.851519334039022\n",
      "Average loss epoch 1: 4.934057254569475\n",
      "Average loss epoch 2: 2.4848585705077926\n",
      "Average loss epoch 3: 1.431748190279617\n",
      "Average loss epoch 4: 0.8536056345285371\n",
      "Average loss epoch 5: 0.5616357563193455\n",
      "Average loss epoch 6: 0.4017425876197427\n",
      "Average loss epoch 7: 0.32272596001018616\n",
      "Average loss epoch 8: 0.26299855017731355\n",
      "Average loss epoch 9: 0.23385209581533142\n",
      "Average loss epoch 10: 0.20963838711207688\n",
      "Average loss epoch 11: 0.1987879616879793\n",
      "Average loss epoch 12: 0.18434157265826714\n",
      "Average loss epoch 13: 0.1968655033773461\n",
      "Average loss epoch 14: 0.16097416259175124\n",
      "Average loss epoch 15: 0.14897160851938088\n",
      "Average loss epoch 16: 0.14182358876217244\n",
      "Average loss epoch 17: 0.14144520108089892\n",
      "Average loss epoch 18: 0.12986299491346662\n",
      "Average loss epoch 19: 0.11880658519519276\n",
      "Average loss epoch 20: 0.1024596780408607\n",
      "Average loss epoch 21: 0.1033959015998123\n",
      "Average loss epoch 22: 0.09481956247500209\n",
      "Average loss epoch 23: 0.09003868297847031\n",
      "Average loss epoch 24: 0.08758623041808172\n",
      "Average loss epoch 25: 0.08309261837194479\n",
      "Average loss epoch 26: 0.07847860204976398\n",
      "Average loss epoch 27: 0.05656228514366545\n",
      "Average loss epoch 28: 0.052746166448856074\n",
      "Average loss epoch 29: 0.05755812609216285\n",
      "Average loss epoch 30: 0.053479649734325965\n",
      "Average loss epoch 31: 0.05818756654551307\n",
      "Average loss epoch 32: 0.05413079390730059\n",
      "Average loss epoch 33: 0.04867831878824333\n",
      "Average loss epoch 34: 0.03984550902008101\n",
      "Average loss epoch 35: 0.03768144797920899\n",
      "Average loss epoch 36: 0.048096637659385356\n",
      "Average loss epoch 37: 0.044910141074526407\n",
      "Average loss epoch 38: 0.038931040308637234\n",
      "Average loss epoch 39: 0.035285037107940634\n",
      "Average loss epoch 40: 0.03379757727718327\n",
      "Average loss epoch 41: 0.036237184705270584\n",
      "Average loss epoch 42: 0.02988271850046531\n",
      "Average loss epoch 43: 0.031927235666588005\n",
      "Average loss epoch 44: 0.02959672035629114\n",
      "Average loss epoch 45: 0.02998647406603532\n",
      "Average loss epoch 46: 0.022197112411294954\n",
      "Average loss epoch 47: 0.025098984894186795\n",
      "Average loss epoch 48: 0.028168595384442257\n",
      "Average loss epoch 49: 0.029016843754847244\n",
      "Average loss epoch 50: 0.021616978487255373\n",
      "Average loss epoch 51: 0.03463610085108125\n",
      "Average loss epoch 52: 0.03273875643283006\n",
      "Average loss epoch 53: 0.025463995628304602\n",
      "Average loss epoch 54: 0.01937849916557329\n",
      "Average loss epoch 55: 0.019098350616928488\n",
      "Average loss epoch 56: 0.01915604729940855\n",
      "Average loss epoch 57: 0.02859618407576839\n",
      "Average loss epoch 58: 0.027836544209014054\n",
      "Average loss epoch 59: 0.02018019597423761\n",
      "Finished training! Total time taken 222.66026639938354s\n",
      "Accuracy = 0.9667\n"
     ]
    }
   ],
   "source": [
    "loss_list = []\n",
    "epoch_list = []\n",
    "with tf.Session() as sess:\n",
    "    start = time.time()\n",
    "    sess.run(tf.global_variables_initializer())\n",
    "    \n",
    "    for i in range(n_epochs):\n",
    "        sess.run(train_iter)\n",
    "        total_loss = 0\n",
    "        n_batches = 0\n",
    "        try:\n",
    "            while True:\n",
    "                _,l = sess.run([optimizer,loss])\n",
    "                total_loss += l\n",
    "                n_batches += 1\n",
    "        except tf.errors.OutOfRangeError:\n",
    "            pass\n",
    "        print(\"Average loss epoch {0}: {1}\".format(i,total_loss/n_batches))\n",
    "        loss_list.append(total_loss/n_batches)\n",
    "        epoch_list.append(i)\n",
    "    print(\"Finished training! Total time taken {0}s\". format(time.time()-start))\n",
    "    \n",
    "    sess.run([test_iter])\n",
    "    total_loss = 0\n",
    "    total_accuracy = 0\n",
    "    try:\n",
    "        while True:\n",
    "            acc = sess.run(accuracy)\n",
    "            total_accuracy += acc\n",
    "    except tf.errors.OutOfRangeError:\n",
    "        pass\n",
    "    print(\"Accuracy = {0}\".format(total_accuracy/n_test))"
   ]
  },
  {
   "cell_type": "code",
   "execution_count": 14,
   "metadata": {},
   "outputs": [
    {
     "data": {
      "image/png": "[encoded data removed]",
      "text/plain": [
       "<Figure size 432x288 with 1 Axes>"
      ]
     },
     "metadata": {
      "needs_background": "light"
     },
     "output_type": "display_data"
    }
   ],
   "source": [
    "plt.plot(epoch_list[10:],loss_list[10:], 'r', label = \"training_loss\")\n",
    "plt.legend()\n",
    "plt.show()"
   ]
  },
  {
   "cell_type": "code",
   "execution_count": 17,
   "metadata": {},
   "outputs": [
    {
     "data": {
      "image/png": "[encoded data removed]",
      "text/plain": [
       "<Figure size 432x288 with 1 Axes>"
      ]
     },
     "metadata": {
      "needs_background": "light"
     },
     "output_type": "display_data"
    }
   ],
   "source": [
    "plt.plot(epoch_list[10:],loss_list[10:], 'r', label = \"training_loss\")\n",
    "plt.legend()\n",
    "plt.show()"
   ]
  },
  {
   "cell_type": "code",
   "execution_count": 22,
   "metadata": {},
   "outputs": [
    {
     "data": {
      "image/png": "[encoded data removed]",
      "text/plain": [
       "<Figure size 432x288 with 1 Axes>"
      ]
     },
     "metadata": {
      "needs_background": "light"
     },
     "output_type": "display_data"
    }
   ],
   "source": [
    "plt.plot(epoch_list[10:],loss_list[10:], 'r', label = \"training_loss\")\n",
    "plt.legend()\n",
    "plt.show()"
   ]
  },
  {
   "cell_type": "code",
   "execution_count": null,
   "metadata": {},
   "outputs": [],
   "source": [
    "plt.plot(epoch_list[10:],loss_list[10:], 'r', label = \"training_loss\")\n",
    "plt.legend()\n",
    "plt.show()"
   ]
  },
  {
   "cell_type": "code",
   "execution_count": null,
   "metadata": {},
   "outputs": [],
   "source": [
    "\"Sigmoid, 128,32\"\n",
    "Finished training! Total time taken 24.76177453994751s\n",
    "Accuracy = 0.9594\n",
    "\n",
    "\"Relu, 128,32\"\n",
    "Finished training! Total time taken 25.204363107681274s\n",
    "Accuracy = 0.9639\n",
    "\n"
   ]
  }
 ],
 "metadata": {
  "kernelspec": {
   "display_name": "Python ML",
   "language": "python",
   "name": "venv"
  },
  "language_info": {
   "codemirror_mode": {
    "name": "ipython",
    "version": 3
   },
   "file_extension": ".py",
   "mimetype": "text/x-python",
   "name": "python",
   "nbconvert_exporter": "python",
   "pygments_lexer": "ipython3",
   "version": "3.6.6"
  }
 },
 "nbformat": 4,
 "nbformat_minor": 2
}
