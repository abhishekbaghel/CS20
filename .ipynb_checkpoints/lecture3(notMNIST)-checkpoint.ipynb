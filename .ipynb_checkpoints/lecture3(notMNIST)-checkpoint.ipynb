{
 "cells": [
  {
   "cell_type": "code",
   "execution_count": 5,
   "metadata": {},
   "outputs": [],
   "source": [
    "import tensorflow as tf\n",
    "import numpy as np\n",
    "import time as time\n",
    "\n",
    "import matplotlib.pyplot as plt\n",
    "import utils"
   ]
  },
  {
   "cell_type": "code",
   "execution_count": 21,
   "metadata": {},
   "outputs": [],
   "source": [
    "learning_rate = 0.003\n",
    "n_epochs = 70\n",
    "n_train = 55000\n",
    "n_test = 10000\n",
    "n_val = 5000\n",
    "batch_size = 128"
   ]
  },
  {
   "cell_type": "code",
   "execution_count": 7,
   "metadata": {},
   "outputs": [],
   "source": [
    "notmnist_folder = \"./data/notmnist\"\n",
    "train, val, test = utils.read_mnist(notmnist_folder, flatten=True)"
   ]
  },
  {
   "cell_type": "code",
   "execution_count": 8,
   "metadata": {},
   "outputs": [],
   "source": [
    "train_data = tf.data.Dataset.from_tensor_slices(train)\n",
    "train_data = train_data.shuffle(1000)\n",
    "train_data = train_data.batch(batch_size)\n",
    "\n",
    "test_data = tf.data.Dataset.from_tensor_slices(test)\n",
    "test_data = test_data.batch(batch_size)"
   ]
  },
  {
   "cell_type": "code",
   "execution_count": 9,
   "metadata": {},
   "outputs": [],
   "source": [
    "iterator = tf.data.Iterator.from_structure(train_data.output_types, train_data.output_shapes)\n",
    "\n",
    "train_iter = iterator.make_initializer(train_data)\n",
    "test_iter = iterator.make_initializer(test_data)\n",
    "\n",
    "img,label = iterator.get_next()"
   ]
  },
  {
   "cell_type": "code",
   "execution_count": 10,
   "metadata": {},
   "outputs": [],
   "source": [
    "w1 = tf.get_variable(\"weights1\",shape=(784,256), initializer = tf.truncated_normal_initializer())\n",
    "b1 = tf.get_variable(\"bias1\", shape = (1,256), initializer = tf.zeros_initializer())\n",
    "w2 = tf.get_variable(\"weights2\", shape=(256,64), initializer = tf.truncated_normal_initializer())\n",
    "b2 = tf.get_variable(\"bias2\", shape = (1,64), initializer = tf.zeros_initializer())\n",
    "w3 = tf.get_variable(\"weights3\", shape=(64,10), initializer = tf.truncated_normal_initializer())\n",
    "b3 = tf.get_variable(\"bias3\", shape = (1,10), initializer = tf.zeros_initializer())"
   ]
  },
  {
   "cell_type": "code",
   "execution_count": 11,
   "metadata": {},
   "outputs": [],
   "source": [
    "z1 = tf.matmul(img, w1) + b1 \n",
    "a1 = tf.nn.relu(z1)\n",
    "z2 = tf.matmul(a1, w2) + b2\n",
    "a2 = tf.nn.relu(z2)\n",
    "#z3 = tf.matmul(a2, w3) + b3\n",
    "#a3 = tf.nn.relu(z3)\n",
    "logits = tf.matmul(a2,w3) + b3\n",
    "#logits = tf.matmul(img, w1) + b1 \n",
    "\n",
    "predictions = tf.nn.softmax(logits)"
   ]
  },
  {
   "cell_type": "code",
   "execution_count": 12,
   "metadata": {},
   "outputs": [],
   "source": [
    "entropy = tf.nn.softmax_cross_entropy_with_logits_v2(logits = logits, labels = label, name = \"entropy\")\n",
    "loss = tf.reduce_mean(entropy, name = \"loss\")"
   ]
  },
  {
   "cell_type": "code",
   "execution_count": 13,
   "metadata": {},
   "outputs": [],
   "source": [
    "optimizer = tf.train.AdamOptimizer(learning_rate).minimize(loss)"
   ]
  },
  {
   "cell_type": "code",
   "execution_count": 14,
   "metadata": {},
   "outputs": [],
   "source": [
    "correct_preds = tf.equal(tf.argmax(predictions,1), tf.argmax(label, 1))\n",
    "accuracy = tf.reduce_sum(tf.cast(correct_preds, tf.float32))"
   ]
  },
  {
   "cell_type": "code",
   "execution_count": 22,
   "metadata": {},
   "outputs": [
    {
     "name": "stdout",
     "output_type": "stream",
     "text": [
      "Average loss epoch 0: 22.126540309052135\n",
      "Average loss epoch 1: 1.9657762427662695\n",
      "Average loss epoch 2: 1.7612511166306428\n",
      "Average loss epoch 3: 1.6243809480999791\n",
      "Average loss epoch 4: 1.5338214682978253\n",
      "Average loss epoch 5: 1.5399805221446725\n",
      "Average loss epoch 6: 1.5072885945785877\n",
      "Average loss epoch 7: 1.4686711569165074\n",
      "Average loss epoch 8: 1.2323091728742732\n",
      "Average loss epoch 9: 1.1779686326204344\n",
      "Average loss epoch 10: 1.1504267900489098\n",
      "Average loss epoch 11: 1.1365213783674462\n",
      "Average loss epoch 12: 1.1094352510086325\n",
      "Average loss epoch 13: 1.0814270679340807\n",
      "Average loss epoch 14: 1.0064593225024467\n",
      "Average loss epoch 15: 1.0060631774192632\n",
      "Average loss epoch 16: 0.9690099822920423\n",
      "Average loss epoch 17: 0.8340606306874475\n",
      "Average loss epoch 18: 0.7922505933878033\n",
      "Average loss epoch 19: 0.8072782536578733\n",
      "Average loss epoch 20: 0.7629858858363573\n",
      "Average loss epoch 21: 0.7105470304572306\n",
      "Average loss epoch 22: 0.6795147618582082\n",
      "Average loss epoch 23: 0.6401158257972362\n",
      "Average loss epoch 24: 0.6255619190460028\n",
      "Average loss epoch 25: 0.6199729924285134\n",
      "Average loss epoch 26: 0.6016589762859567\n",
      "Average loss epoch 27: 0.5878028581308764\n",
      "Average loss epoch 28: 0.5654521675303925\n",
      "Average loss epoch 29: 0.5620311444581941\n",
      "Average loss epoch 30: 0.5615482484878496\n",
      "Average loss epoch 31: 0.5329051395141802\n",
      "Average loss epoch 32: 0.515207175390665\n",
      "Average loss epoch 33: 0.5155156502890033\n",
      "Average loss epoch 34: 0.5141441697298095\n",
      "Average loss epoch 35: 0.5095355304174645\n",
      "Average loss epoch 36: 0.4924743557045626\n",
      "Average loss epoch 37: 0.48768486297407815\n",
      "Average loss epoch 38: 0.4744344697095627\n",
      "Average loss epoch 39: 0.4941423719705537\n",
      "Average loss epoch 40: 0.47920756080122884\n",
      "Average loss epoch 41: 0.46781270753505616\n",
      "Average loss epoch 42: 0.4486567393638367\n",
      "Average loss epoch 43: 0.4480214653320091\n",
      "Average loss epoch 44: 0.45189766849196233\n",
      "Average loss epoch 45: 0.46674062911161157\n",
      "Average loss epoch 46: 0.43876674473285676\n",
      "Average loss epoch 47: 0.4291337801966556\n",
      "Average loss epoch 48: 0.43477806216755577\n",
      "Average loss epoch 49: 0.42514743943547095\n",
      "Average loss epoch 50: 0.4193743801740713\n",
      "Average loss epoch 51: 0.4246864216965298\n",
      "Average loss epoch 52: 0.41184839731039\n",
      "Average loss epoch 53: 0.4292414928938067\n",
      "Average loss epoch 54: 0.41713800208513124\n",
      "Average loss epoch 55: 0.4094457310992618\n",
      "Average loss epoch 56: 0.4005936887721683\n",
      "Average loss epoch 57: 0.3960450064650802\n",
      "Average loss epoch 58: 0.39808324131854744\n",
      "Average loss epoch 59: 0.3900360634160596\n",
      "Average loss epoch 60: 0.3928458800496057\n",
      "Average loss epoch 61: 0.3986625496038171\n",
      "Average loss epoch 62: 0.3860710061913313\n",
      "Average loss epoch 63: 0.3888579735922259\n",
      "Average loss epoch 64: 0.39404169449279475\n",
      "Average loss epoch 65: 0.377451575738053\n",
      "Average loss epoch 66: 0.36691454281640606\n",
      "Average loss epoch 67: 0.3627681253607883\n",
      "Average loss epoch 68: 0.3815091121335362\n",
      "Average loss epoch 69: 0.35563404747219973\n",
      "Finished training! Total time taken 258.17834186553955s\n",
      "Accuracy = 0.9203\n"
     ]
    }
   ],
   "source": [
    "loss_list = []\n",
    "epoch_list = []\n",
    "with tf.Session() as sess:\n",
    "    start = time.time()\n",
    "    sess.run(tf.global_variables_initializer())\n",
    "    \n",
    "    for i in range(n_epochs):\n",
    "        sess.run(train_iter)\n",
    "        total_loss = 0\n",
    "        n_batches = 0\n",
    "        try:\n",
    "            while True:\n",
    "                _,l = sess.run([optimizer,loss])\n",
    "                total_loss += l\n",
    "                n_batches += 1\n",
    "        except tf.errors.OutOfRangeError:\n",
    "            pass\n",
    "        print(\"Average loss epoch {0}: {1}\".format(i,total_loss/n_batches))\n",
    "        loss_list.append(total_loss/n_batches)\n",
    "        epoch_list.append(i)\n",
    "    print(\"Finished training! Total time taken {0}s\". format(time.time()-start))\n",
    "    \n",
    "    sess.run([test_iter])\n",
    "    total_loss = 0\n",
    "    total_accuracy = 0\n",
    "    try:\n",
    "        while True:\n",
    "            acc = sess.run(accuracy)\n",
    "            total_accuracy += acc\n",
    "    except tf.errors.OutOfRangeError:\n",
    "        pass\n",
    "    print(\"Accuracy = {0}\".format(total_accuracy/n_test))"
   ]
  },
  {
   "cell_type": "code",
   "execution_count": 20,
   "metadata": {},
   "outputs": [
    {
     "data": {
      "image/png": "[encoded data removed]",
      "text/plain": [
       "<Figure size 432x288 with 1 Axes>"
      ]
     },
     "metadata": {
      "needs_background": "light"
     },
     "output_type": "display_data"
    }
   ],
   "source": [
    "plt.plot(epoch_list[10:],loss_list[10:], 'r', label = \"training_loss\")\n",
    "plt.legend()\n",
    "plt.show()"
   ]
  },
  {
   "cell_type": "code",
   "execution_count": 23,
   "metadata": {},
   "outputs": [
    {
     "data": {
      "image/png": "[encoded data removed]",
      "text/plain": [
       "<Figure size 432x288 with 1 Axes>"
      ]
     },
     "metadata": {
      "needs_background": "light"
     },
     "output_type": "display_data"
    }
   ],
   "source": [
    "plt.plot(epoch_list[10:],loss_list[10:], 'r', label = \"training_loss\")\n",
    "plt.legend()\n",
    "plt.show()"
   ]
  },
  {
   "cell_type": "code",
   "execution_count": null,
   "metadata": {},
   "outputs": [],
   "source": []
  }
 ],
 "metadata": {
  "kernelspec": {
   "display_name": "Python ML",
   "language": "python",
   "name": "venv"
  },
  "language_info": {
   "codemirror_mode": {
    "name": "ipython",
    "version": 3
   },
   "file_extension": ".py",
   "mimetype": "text/x-python",
   "name": "python",
   "nbconvert_exporter": "python",
   "pygments_lexer": "ipython3",
   "version": "3.6.6"
  }
 },
 "nbformat": 4,
 "nbformat_minor": 2
}
