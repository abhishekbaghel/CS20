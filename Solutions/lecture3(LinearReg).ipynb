{
 "cells": [
  {
   "cell_type": "code",
   "execution_count": 1,
   "metadata": {},
   "outputs": [],
   "source": [
    "import os\n",
    "os.environ['TF_CPP_MIN_LOG_LEVEL']='2'\n",
    "import time\n",
    "\n",
    "import numpy as np\n",
    "import matplotlib.pyplot as plt\n",
    "import tensorflow as tf\n",
    "\n",
    "import utils\n",
    "\n",
    "DATA_FILE = 'birth_life_2010.txt'\n",
    "\n",
    "# Step 1: read in data from the .txt file\n",
    "data, n_samples = utils.read_birth_life_data(DATA_FILE)"
   ]
  },
  {
   "cell_type": "code",
   "execution_count": 2,
   "metadata": {},
   "outputs": [],
   "source": [
    "X,Y = tf.placeholder(tf.float32, shape = [], name = \"X\"),tf.placeholder(tf.float32, shape = [], name = \"Y\")"
   ]
  },
  {
   "cell_type": "code",
   "execution_count": 3,
   "metadata": {},
   "outputs": [],
   "source": [
    "W1 = tf.get_variable(\"W1\", initializer = tf.constant([0.0]), dtype = tf.float32)\n",
    "b1 = tf.get_variable(\"b1\", initializer = tf.constant([0.0]), dtype = tf.float32)"
   ]
  },
  {
   "cell_type": "code",
   "execution_count": 4,
   "metadata": {},
   "outputs": [],
   "source": [
    "Y_predicted = W1*X + b1"
   ]
  },
  {
   "cell_type": "code",
   "execution_count": 5,
   "metadata": {},
   "outputs": [],
   "source": [
    "loss = tf.square(Y - Y_predicted, name = \"loss\")"
   ]
  },
  {
   "cell_type": "code",
   "execution_count": 6,
   "metadata": {},
   "outputs": [],
   "source": [
    "optimizer = tf.train.GradientDescentOptimizer(learning_rate=0.001).minimize(loss)"
   ]
  },
  {
   "cell_type": "code",
   "execution_count": 7,
   "metadata": {},
   "outputs": [],
   "source": [
    "writer = tf.summary.FileWriter(\"./graphs/lin_reg\", tf.get_default_graph())"
   ]
  },
  {
   "cell_type": "code",
   "execution_count": 12,
   "metadata": {},
   "outputs": [],
   "source": [
    "start = time.time()"
   ]
  },
  {
   "cell_type": "code",
   "execution_count": 13,
   "metadata": {},
   "outputs": [
    {
     "name": "stdout",
     "output_type": "stream",
     "text": [
      "Epoch 0: [1661.8632]\n",
      "Epoch 1: [956.3222]\n",
      "Epoch 2: [844.67395]\n",
      "Epoch 3: [750.7313]\n",
      "Epoch 4: [667.65985]\n",
      "Epoch 5: [594.14166]\n",
      "Epoch 6: [529.0787]\n",
      "Epoch 7: [471.50037]\n",
      "Epoch 8: [420.5458]\n",
      "Epoch 9: [375.45517]\n",
      "Epoch 10: [335.5544]\n",
      "Epoch 11: [300.2462]\n",
      "Epoch 12: [269.0038]\n",
      "Epoch 13: [241.35957]\n",
      "Epoch 14: [216.90038]\n",
      "Epoch 15: [195.25972]\n",
      "Epoch 16: [176.11382]\n",
      "Epoch 17: [159.17549]\n",
      "Epoch 18: [144.19066]\n",
      "Epoch 19: [130.93504]\n",
      "Epoch 20: [119.20936]\n",
      "Epoch 21: [108.837944]\n",
      "Epoch 22: [99.664566]\n",
      "Epoch 23: [91.551704]\n",
      "Epoch 24: [84.37658]\n",
      "Epoch 25: [78.03213]\n",
      "Epoch 26: [72.42179]\n",
      "Epoch 27: [67.46131]\n",
      "Epoch 28: [63.07561]\n",
      "Epoch 29: [59.198704]\n",
      "Epoch 30: [55.771618]\n",
      "Epoch 31: [52.742695]\n",
      "Epoch 32: [50.065636]\n",
      "Epoch 33: [47.700066]\n",
      "Epoch 34: [45.610172]\n",
      "Epoch 35: [43.763794]\n",
      "Epoch 36: [42.132587]\n",
      "Epoch 37: [40.692215]\n",
      "Epoch 38: [39.420235]\n",
      "Epoch 39: [38.29702]\n",
      "Epoch 40: [37.305588]\n",
      "Epoch 41: [36.43066]\n",
      "Epoch 42: [35.65845]\n",
      "Epoch 43: [34.97725]\n",
      "Epoch 44: [34.376556]\n",
      "Epoch 45: [33.846714]\n",
      "Epoch 46: [33.379673]\n",
      "Epoch 47: [32.968002]\n",
      "Epoch 48: [32.60549]\n",
      "Epoch 49: [32.286182]\n",
      "Epoch 50: [32.00496]\n",
      "Epoch 51: [31.757526]\n",
      "Epoch 52: [31.539782]\n",
      "Epoch 53: [31.348364]\n",
      "Epoch 54: [31.18011]\n",
      "Epoch 55: [31.032255]\n",
      "Epoch 56: [30.902468]\n",
      "Epoch 57: [30.788603]\n",
      "Epoch 58: [30.688713]\n",
      "Epoch 59: [30.601234]\n",
      "Epoch 60: [30.52459]\n",
      "Epoch 61: [30.457527]\n",
      "Epoch 62: [30.39896]\n",
      "Epoch 63: [30.347776]\n",
      "Epoch 64: [30.303122]\n",
      "Epoch 65: [30.264248]\n",
      "Epoch 66: [30.230396]\n",
      "Epoch 67: [30.200958]\n",
      "Epoch 68: [30.175491]\n",
      "Epoch 69: [30.153355]\n",
      "Epoch 70: [30.134232]\n",
      "Epoch 71: [30.117764]\n",
      "Epoch 72: [30.103544]\n",
      "Epoch 73: [30.091406]\n",
      "Epoch 74: [30.080946]\n",
      "Epoch 75: [30.07208]\n",
      "Epoch 76: [30.064528]\n",
      "Epoch 77: [30.058142]\n",
      "Epoch 78: [30.052778]\n",
      "Epoch 79: [30.048279]\n",
      "Epoch 80: [30.044588]\n",
      "Epoch 81: [30.041548]\n",
      "Epoch 82: [30.039047]\n",
      "Epoch 83: [30.037035]\n",
      "Epoch 84: [30.03547]\n",
      "Epoch 85: [30.034283]\n",
      "Epoch 86: [30.03339]\n",
      "Epoch 87: [30.032772]\n",
      "Epoch 88: [30.032387]\n",
      "Epoch 89: [30.032158]\n",
      "Epoch 90: [30.032093]\n",
      "Epoch 91: [30.032188]\n",
      "Epoch 92: [30.032396]\n",
      "Epoch 93: [30.032642]\n",
      "Epoch 94: [30.033041]\n",
      "Epoch 95: [30.03344]\n",
      "Epoch 96: [30.03391]\n",
      "Epoch 97: [30.034441]\n",
      "Epoch 98: [30.034922]\n",
      "Epoch 99: [30.035526]\n"
     ]
    }
   ],
   "source": [
    "with tf.Session() as sess:\n",
    "    sess.run(tf.global_variables_initializer())\n",
    "    for i in range(100):\n",
    "        total_loss = 0\n",
    "        for x,y in data:\n",
    "            _,loss_val = sess.run([optimizer,loss], feed_dict = {X:x, Y:y})\n",
    "            total_loss +=loss_val\n",
    "        print(\"Epoch {0}: {1}\".format(i,total_loss/n_samples))\n",
    "        w,b = sess.run([W1, b1])\n",
    "writer.close()"
   ]
  },
  {
   "cell_type": "code",
   "execution_count": 14,
   "metadata": {},
   "outputs": [
    {
     "name": "stdout",
     "output_type": "stream",
     "text": [
      "Took: 12.483883 seconds\n"
     ]
    }
   ],
   "source": [
    "print('Took: %f seconds' %(time.time() - start))"
   ]
  },
  {
   "cell_type": "code",
   "execution_count": 16,
   "metadata": {},
   "outputs": [
    {
     "data": {
      "image/png": "[encoded data removed]",
      "text/plain": [
       "<Figure size 432x288 with 1 Axes>"
      ]
     },
     "metadata": {
      "needs_background": "light"
     },
     "output_type": "display_data"
    }
   ],
   "source": [
    "plt.plot(data[:,0], data[:,1],'bo', label = 'Real data')\n",
    "plt.plot(data[:,0], data[:,0]*w + b, 'r', label = 'Predicted data')\n",
    "plt.legend()\n",
    "plt.show()"
   ]
  },
  {
   "cell_type": "code",
   "execution_count": 17,
   "metadata": {},
   "outputs": [],
   "source": [
    "def huber_loss(predictions, labels, delta = 14.0):\n",
    "    diff = tf.abs(predictions-labels)\n",
    "    tf.cond(diff < delta, lambda: 0.5*tf.square(diff), lambda: delta*diff - 0.5*tf.square(delta))"
   ]
  },
  {
   "cell_type": "code",
   "execution_count": 40,
   "metadata": {},
   "outputs": [],
   "source": [
    "dataset = tf.data.Dataset.from_tensor_slices((data[:,0],data[:,1]))\n",
    "dataset = dataset.shuffle(100)"
   ]
  },
  {
   "cell_type": "code",
   "execution_count": 41,
   "metadata": {},
   "outputs": [],
   "source": [
    "iterator = dataset.make_one_shot_iterator()\n",
    "X,Y = iterator.get_next()"
   ]
  },
  {
   "cell_type": "code",
   "execution_count": 42,
   "metadata": {},
   "outputs": [
    {
     "name": "stdout",
     "output_type": "stream",
     "text": [
      "[3.142, 68.484314]\n",
      "[2.2893, 69.88439]\n",
      "[1.475, 68.90371]\n"
     ]
    }
   ],
   "source": [
    "with tf.Session() as sess:\n",
    "    print(sess.run([X,Y]))\n",
    "    print(sess.run([X,Y]))\n",
    "    print(sess.run([X,Y]))"
   ]
  },
  {
   "cell_type": "code",
   "execution_count": null,
   "metadata": {},
   "outputs": [],
   "source": []
  }
 ],
 "metadata": {
  "kernelspec": {
   "display_name": "Python ML",
   "language": "python",
   "name": "venv"
  },
  "language_info": {
   "codemirror_mode": {
    "name": "ipython",
    "version": 3
   },
   "file_extension": ".py",
   "mimetype": "text/x-python",
   "name": "python",
   "nbconvert_exporter": "python",
   "pygments_lexer": "ipython3",
   "version": "3.6.6"
  }
 },
 "nbformat": 4,
 "nbformat_minor": 2
}
